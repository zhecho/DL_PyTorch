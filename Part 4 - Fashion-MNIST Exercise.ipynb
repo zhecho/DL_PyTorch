{
 "cells": [
  {
   "cell_type": "markdown",
   "metadata": {},
   "source": [
    "# Classifying Fashion-MNIST\n",
    "\n",
    "Now it's your turn to build and train a neural network. You'll be using the [Fashion-MNIST dataset](https://github.com/zalandoresearch/fashion-mnist), a drop-in replacement for the MNIST dataset. MNIST is actually quite trivial with neural networks where you can easily achieve better than 97% accuracy. Fashion-MNIST is a set of 28x28 greyscale images of clothes. It's more complex than MNIST, so it's a better representation of the actual performance of your network, and a better representation of datasets you'll use in the real world.\n",
    "\n",
    "<img src='assets/fashion-mnist-sprite.png' width=500px>\n",
    "\n",
    "In this notebook, you'll build your own neural network. For the most part, you could just copy and paste the code from Part 3, but you wouldn't be learning. It's important for you to write the code yourself and get it to work. Feel free to consult the previous notebook though as you work through this.\n",
    "\n",
    "First off, let's load the dataset through torchvision."
   ]
  },
  {
   "cell_type": "code",
   "execution_count": 1,
   "metadata": {},
   "outputs": [],
   "source": [
    "import torch\n",
    "from torchvision import datasets, transforms\n",
    "import helper\n",
    "\n",
    "# Define a transform to normalize the data\n",
    "transform = transforms.Compose([transforms.ToTensor(),\n",
    "                                transforms.Normalize((0.5, 0.5, 0.5), (0.5, 0.5, 0.5))])\n",
    "# Download and load the training data\n",
    "trainset = datasets.FashionMNIST('F_MNIST_data/', download=True, train=True, transform=transform)\n",
    "trainloader = torch.utils.data.DataLoader(trainset, batch_size=64, shuffle=True)\n",
    "\n",
    "# Download and load the test data\n",
    "testset = datasets.FashionMNIST('F_MNIST_data/', download=True, train=False, transform=transform)\n",
    "testloader = torch.utils.data.DataLoader(testset, batch_size=64, shuffle=True)"
   ]
  },
  {
   "cell_type": "markdown",
   "metadata": {},
   "source": [
    "Here we can see one of the images."
   ]
  },
  {
   "cell_type": "code",
   "execution_count": 2,
   "metadata": {},
   "outputs": [
    {
     "data": {
      "image/png": "[encoded data removed]",
      "text/plain": [
       "<Figure size 432x288 with 1 Axes>"
      ]
     },
     "metadata": {
      "needs_background": "light"
     },
     "output_type": "display_data"
    }
   ],
   "source": [
    "image, label = next(iter(trainloader))\n",
    "helper.imshow(image[0,:]);"
   ]
  },
  {
   "cell_type": "markdown",
   "metadata": {},
   "source": [
    "With the data loaded, it's time to import the necessary packages."
   ]
  },
  {
   "cell_type": "code",
   "execution_count": 3,
   "metadata": {},
   "outputs": [],
   "source": [
    "%matplotlib inline\n",
    "%config InlineBackend.figure_format = 'retina'\n",
    "\n",
    "import matplotlib.pyplot as plt\n",
    "import numpy as np\n",
    "import time\n",
    "\n",
    "import torch\n",
    "from torch import nn\n",
    "from torch import optim\n",
    "import torch.nn.functional as F\n",
    "from torchvision import datasets, transforms\n",
    "\n",
    "import helper"
   ]
  },
  {
   "cell_type": "markdown",
   "metadata": {},
   "source": [
    "## Building the network\n",
    "\n",
    "Here you should define your network. As with MNIST, each image is 28x28 which is a total of 784 pixels, and there are 10 classes. You should include at least one hidden layer. We suggest you use ReLU activations for the layers and to return the logits from the forward pass. It's up to you how many layers you add and the size of those layers."
   ]
  },
  {
   "cell_type": "code",
   "execution_count": 4,
   "metadata": {},
   "outputs": [
    {
     "name": "stdout",
     "output_type": "stream",
     "text": [
      "Sequential(\n",
      "  (0): Linear(in_features=784, out_features=256, bias=True)\n",
      "  (1): ReLU()\n",
      "  (2): Linear(in_features=256, out_features=128, bias=True)\n",
      "  (3): ReLU()\n",
      "  (4): Linear(in_features=128, out_features=64, bias=True)\n",
      "  (5): ReLU()\n",
      "  (6): Linear(in_features=64, out_features=10, bias=True)\n",
      ")\n"
     ]
    }
   ],
   "source": [
    "# TODO: Define your network architecture here\n",
    "# Hyperparameters for our network\n",
    "input_size = 784\n",
    "hidden_sizes = [256, 128, 64]\n",
    "output_size = 10\n",
    "# lalalal\n",
    "# Build a feed-forward network\n",
    "model = nn.Sequential(nn.Linear(input_size, hidden_sizes[0]),\n",
    "                      nn.ReLU(),\n",
    "                      nn.Linear(hidden_sizes[0], hidden_sizes[1]),\n",
    "                      nn.ReLU(),\n",
    "                      nn.Linear(hidden_sizes[1], hidden_sizes[2]),\n",
    "                      nn.ReLU(),\n",
    "                      nn.Linear(hidden_sizes[2], output_size),)\n",
    "\n",
    "print(model)"
   ]
  },
  {
   "cell_type": "markdown",
   "metadata": {},
   "source": [
    "# Train the network\n",
    "\n",
    "Now you should create your network and train it. First you'll want to define [the criterion](http://pytorch.org/docs/master/nn.html#loss-functions) ( something like `nn.CrossEntropyLoss`) and [the optimizer](http://pytorch.org/docs/master/optim.html) (typically `optim.SGD` or `optim.Adam`).\n",
    "\n",
    "Then write the training code. Remember the training pass is a fairly straightforward process:\n",
    "\n",
    "* Make a forward pass through the network to get the logits \n",
    "* Use the logits to calculate the loss\n",
    "* Perform a backward pass through the network with `loss.backward()` to calculate the gradients\n",
    "* Take a step with the optimizer to update the weights\n",
    "\n",
    "By adjusting the hyperparameters (hidden units, learning rate, etc), you should be able to get the training loss below 0.4."
   ]
  },
  {
   "cell_type": "code",
   "execution_count": 5,
   "metadata": {},
   "outputs": [],
   "source": [
    "# TODO: Create the network, define the criterion and optimizer\n",
    "criterion = nn.CrossEntropyLoss()\n",
    "optimizer = optim.Adam(model.parameters(), lr=0.01)"
   ]
  },
  {
   "cell_type": "code",
   "execution_count": 6,
   "metadata": {},
   "outputs": [
    {
     "name": "stdout",
     "output_type": "stream",
     "text": [
      "Epoch: 1/3...  Loss: 1.1828\n",
      "Epoch: 1/3...  Loss: 0.7976\n",
      "Epoch: 1/3...  Loss: 0.6801\n",
      "Epoch: 1/3...  Loss: 0.6440\n",
      "Epoch: 1/3...  Loss: 0.5916\n",
      "Epoch: 1/3...  Loss: 0.5979\n",
      "Epoch: 1/3...  Loss: 0.5874\n",
      "Epoch: 1/3...  Loss: 0.5872\n",
      "Epoch: 1/3...  Loss: 0.5508\n",
      "Epoch: 1/3...  Loss: 0.5028\n",
      "Epoch: 1/3...  Loss: 0.5229\n",
      "Epoch: 1/3...  Loss: 0.5583\n",
      "Epoch: 1/3...  Loss: 0.5493\n",
      "Epoch: 1/3...  Loss: 0.5200\n",
      "Epoch: 1/3...  Loss: 0.5140\n",
      "Epoch: 1/3...  Loss: 0.5054\n",
      "Epoch: 1/3...  Loss: 0.4963\n",
      "Epoch: 1/3...  Loss: 0.5371\n",
      "Epoch: 1/3...  Loss: 0.4973\n",
      "Epoch: 1/3...  Loss: 0.5495\n",
      "Epoch: 1/3...  Loss: 0.5278\n",
      "Epoch: 1/3...  Loss: 0.5120\n",
      "Epoch: 1/3...  Loss: 0.4777\n",
      "Epoch: 2/3...  Loss: 0.2597\n",
      "Epoch: 2/3...  Loss: 0.4812\n",
      "Epoch: 2/3...  Loss: 0.4413\n",
      "Epoch: 2/3...  Loss: 0.4534\n",
      "Epoch: 2/3...  Loss: 0.4615\n",
      "Epoch: 2/3...  Loss: 0.4519\n",
      "Epoch: 2/3...  Loss: 0.4755\n",
      "Epoch: 2/3...  Loss: 0.5093\n",
      "Epoch: 2/3...  Loss: 0.4476\n",
      "Epoch: 2/3...  Loss: 0.4893\n",
      "Epoch: 2/3...  Loss: 0.4804\n",
      "Epoch: 2/3...  Loss: 0.4739\n",
      "Epoch: 2/3...  Loss: 0.3993\n",
      "Epoch: 2/3...  Loss: 0.4587\n",
      "Epoch: 2/3...  Loss: 0.4924\n",
      "Epoch: 2/3...  Loss: 0.3873\n",
      "Epoch: 2/3...  Loss: 0.3942\n",
      "Epoch: 2/3...  Loss: 0.4705\n",
      "Epoch: 2/3...  Loss: 0.4863\n",
      "Epoch: 2/3...  Loss: 0.4231\n",
      "Epoch: 2/3...  Loss: 0.4283\n",
      "Epoch: 2/3...  Loss: 0.4146\n",
      "Epoch: 2/3...  Loss: 0.4045\n",
      "Epoch: 3/3...  Loss: 0.0424\n",
      "Epoch: 3/3...  Loss: 0.4083\n",
      "Epoch: 3/3...  Loss: 0.4486\n",
      "Epoch: 3/3...  Loss: 0.4323\n",
      "Epoch: 3/3...  Loss: 0.4404\n",
      "Epoch: 3/3...  Loss: 0.3974\n",
      "Epoch: 3/3...  Loss: 0.4225\n",
      "Epoch: 3/3...  Loss: 0.4341\n",
      "Epoch: 3/3...  Loss: 0.4168\n",
      "Epoch: 3/3...  Loss: 0.4183\n",
      "Epoch: 3/3...  Loss: 0.4191\n",
      "Epoch: 3/3...  Loss: 0.4360\n",
      "Epoch: 3/3...  Loss: 0.4584\n",
      "Epoch: 3/3...  Loss: 0.4259\n",
      "Epoch: 3/3...  Loss: 0.3925\n",
      "Epoch: 3/3...  Loss: 0.4305\n",
      "Epoch: 3/3...  Loss: 0.4466\n",
      "Epoch: 3/3...  Loss: 0.3862\n",
      "Epoch: 3/3...  Loss: 0.4237\n",
      "Epoch: 3/3...  Loss: 0.4544\n",
      "Epoch: 3/3...  Loss: 0.4273\n",
      "Epoch: 3/3...  Loss: 0.4493\n",
      "Epoch: 3/3...  Loss: 0.3851\n",
      "Epoch: 3/3...  Loss: 0.4174\n"
     ]
    }
   ],
   "source": [
    "# TODO: Train the network here\n",
    "epochs = 3\n",
    "print_every = 40\n",
    "steps = 0\n",
    "for e in range(epochs):\n",
    "    running_loss = 0\n",
    "    for images, labels in iter(trainloader):\n",
    "        steps += 1\n",
    "        # Flatten MNIST images into a 784 long vector\n",
    "        images.resize_(images.size()[0], 784)\n",
    "        \n",
    "        optimizer.zero_grad()\n",
    "        \n",
    "        # Forward and backward passes\n",
    "        output = model.forward(images)\n",
    "        loss = criterion(output, labels)\n",
    "        loss.backward()\n",
    "        optimizer.step()\n",
    "        \n",
    "        running_loss += loss.item()\n",
    "        \n",
    "        if steps % print_every == 0:\n",
    "            print(\"Epoch: {}/{}... \".format(e+1, epochs),\n",
    "                  \"Loss: {:.4f}\".format(running_loss/print_every))\n",
    "            \n",
    "            running_loss = 0"
   ]
  },
  {
   "cell_type": "code",
   "execution_count": 7,
   "metadata": {},
   "outputs": [
    {
     "name": "stdout",
     "output_type": "stream",
     "text": [
      "torch.Size([1, 784])\n"
     ]
    },
    {
     "data": {
      "image/png": "[encoded data removed]",
      "text/plain": [
       "<Figure size 432x648 with 2 Axes>"
      ]
     },
     "metadata": {
      "image/png": {
       "height": 216,
       "width": 424
      },
      "needs_background": "light"
     },
     "output_type": "display_data"
    }
   ],
   "source": [
    "# Test out your network!\n",
    "\n",
    "dataiter = iter(testloader)\n",
    "images, labels = dataiter.next()\n",
    "img = images[0]\n",
    "\n",
    "\n",
    "# Convert 2D image to 1D vector\n",
    "img = img.view(1, 784)\n",
    "\n",
    "with torch.no_grad():\n",
    "    logits = model.forward(img)\n",
    "    \n",
    "    \n",
    "# TODO: Calculate the class probabilities (softmax) for img\n",
    "ps = F.softmax(logits, dim=1)\n",
    "\n",
    "#ValueError: shape mismatch: objects cannot be broadcast to a single shape\n",
    "\n",
    "# Plot the image and probabilities\n",
    "print(img.size())\n",
    "helper.view_classify(img.resize_(1, 28, 28), ps, version='Fashion')\n"
   ]
  },
  {
   "cell_type": "markdown",
   "metadata": {},
   "source": [
    "Now that your network is trained, you'll want to save it to disk so you can load it later instead of training it again. Obviously, it's impractical to train a network every time you need one. In practice, you'll train it once, save the model, then reload it for further training or making predictions. In the next part, I'll show you how to save and load trained models."
   ]
  },
  {
   "cell_type": "code",
   "execution_count": null,
   "metadata": {},
   "outputs": [],
   "source": []
  }
 ],
 "metadata": {
  "kernelspec": {
   "display_name": "Python 3",
   "language": "python",
   "name": "python3"
  },
  "language_info": {
   "codemirror_mode": {
    "name": "ipython",
    "version": 3
   },
   "file_extension": ".py",
   "mimetype": "text/x-python",
   "name": "python",
   "nbconvert_exporter": "python",
   "pygments_lexer": "ipython3",
   "version": "3.6.8"
  }
 },
 "nbformat": 4,
 "nbformat_minor": 2
}
