{
 "cells": [
  {
   "cell_type": "markdown",
   "metadata": {},
   "source": [
    "# Classifying Fashion-MNIST\n",
    "\n",
    "Now it's your turn to build and train a neural network. You'll be using the [Fashion-MNIST dataset](https://github.com/zalandoresearch/fashion-mnist), a drop-in replacement for the MNIST dataset. MNIST is actually quite trivial with neural networks where you can easily achieve better than 97% accuracy. Fashion-MNIST is a set of 28x28 greyscale images of clothes. It's more complex than MNIST, so it's a better representation of the actual performance of your network, and a better representation of datasets you'll use in the real world.\n",
    "\n",
    "<img src='assets/fashion-mnist-sprite.png' width=500px>\n",
    "\n",
    "In this notebook, you'll build your own neural network. For the most part, you could just copy and paste the code from Part 3, but you wouldn't be learning. It's important for you to write the code yourself and get it to work. Feel free to consult the previous notebook though as you work through this.\n",
    "\n",
    "First off, let's load the dataset through torchvision."
   ]
  },
  {
   "cell_type": "code",
   "execution_count": 4,
   "metadata": {},
   "outputs": [],
   "source": [
    "import torch\n",
    "from torchvision import datasets, transforms\n",
    "import helper\n",
    "\n",
    "# Define a transform to normalize the data\n",
    "transform = transforms.Compose([transforms.ToTensor(),\n",
    "                                transforms.Normalize((0.5, 0.5, 0.5), (0.5, 0.5, 0.5))])\n",
    "# Download and load the training data\n",
    "trainset = datasets.FashionMNIST('F_MNIST_data/', download=True, train=True, transform=transform)\n",
    "trainloader = torch.utils.data.DataLoader(trainset, batch_size=64, shuffle=True)\n",
    "\n",
    "# Download and load the test data\n",
    "testset = datasets.FashionMNIST('F_MNIST_data/', download=True, train=False, transform=transform)\n",
    "testloader = torch.utils.data.DataLoader(testset, batch_size=64, shuffle=True)"
   ]
  },
  {
   "cell_type": "markdown",
   "metadata": {},
   "source": [
    "Here we can see one of the images."
   ]
  },
  {
   "cell_type": "code",
   "execution_count": 5,
   "metadata": {},
   "outputs": [
    {
     "data": {
      "image/png": "[encoded data removed]",
      "text/plain": [
       "<Figure size 432x288 with 1 Axes>"
      ]
     },
     "metadata": {
      "needs_background": "light"
     },
     "output_type": "display_data"
    }
   ],
   "source": [
    "image, label = next(iter(trainloader))\n",
    "helper.imshow(image[0,:]);"
   ]
  },
  {
   "cell_type": "markdown",
   "metadata": {},
   "source": [
    "With the data loaded, it's time to import the necessary packages."
   ]
  },
  {
   "cell_type": "code",
   "execution_count": 6,
   "metadata": {},
   "outputs": [],
   "source": [
    "%matplotlib inline\n",
    "%config InlineBackend.figure_format = 'retina'\n",
    "\n",
    "import matplotlib.pyplot as plt\n",
    "import numpy as np\n",
    "import time\n",
    "\n",
    "import torch\n",
    "from torch import nn\n",
    "from torch import optim\n",
    "import torch.nn.functional as F\n",
    "from torchvision import datasets, transforms\n",
    "\n",
    "import helper"
   ]
  },
  {
   "cell_type": "markdown",
   "metadata": {},
   "source": [
    "## Building the network\n",
    "\n",
    "Here you should define your network. As with MNIST, each image is 28x28 which is a total of 784 pixels, and there are 10 classes. You should include at least one hidden layer. We suggest you use ReLU activations for the layers and to return the logits from the forward pass. It's up to you how many layers you add and the size of those layers."
   ]
  },
  {
   "cell_type": "code",
   "execution_count": 45,
   "metadata": {},
   "outputs": [
    {
     "name": "stdout",
     "output_type": "stream",
     "text": [
      "Sequential(\n",
      "  (0): Linear(in_features=784, out_features=256, bias=True)\n",
      "  (1): ReLU()\n",
      "  (2): Linear(in_features=256, out_features=128, bias=True)\n",
      "  (3): ReLU()\n",
      "  (4): Linear(in_features=128, out_features=64, bias=True)\n",
      "  (5): ReLU()\n",
      "  (6): Linear(in_features=64, out_features=10, bias=True)\n",
      ")\n"
     ]
    }
   ],
   "source": [
    "# TODO: Define your network architecture here\n",
    "# Hyperparameters for our network\n",
    "input_size = 784\n",
    "hidden_sizes = [256, 128, 64]\n",
    "output_size = 10\n",
    "\n",
    "# Build a feed-forward network\n",
    "model = nn.Sequential(nn.Linear(input_size, hidden_sizes[0]),\n",
    "                      nn.ReLU(),\n",
    "                      nn.Linear(hidden_sizes[0], hidden_sizes[1]),\n",
    "                      nn.ReLU(),\n",
    "                      nn.Linear(hidden_sizes[1], hidden_sizes[2]),\n",
    "                      nn.ReLU(),\n",
    "                      nn.Linear(hidden_sizes[2], output_size),)\n",
    "\n",
    "print(model)"
   ]
  },
  {
   "cell_type": "markdown",
   "metadata": {},
   "source": [
    "# Train the network\n",
    "\n",
    "Now you should create your network and train it. First you'll want to define [the criterion](http://pytorch.org/docs/master/nn.html#loss-functions) ( something like `nn.CrossEntropyLoss`) and [the optimizer](http://pytorch.org/docs/master/optim.html) (typically `optim.SGD` or `optim.Adam`).\n",
    "\n",
    "Then write the training code. Remember the training pass is a fairly straightforward process:\n",
    "\n",
    "* Make a forward pass through the network to get the logits \n",
    "* Use the logits to calculate the loss\n",
    "* Perform a backward pass through the network with `loss.backward()` to calculate the gradients\n",
    "* Take a step with the optimizer to update the weights\n",
    "\n",
    "By adjusting the hyperparameters (hidden units, learning rate, etc), you should be able to get the training loss below 0.4."
   ]
  },
  {
   "cell_type": "code",
   "execution_count": 46,
   "metadata": {},
   "outputs": [],
   "source": [
    "# TODO: Create the network, define the criterion and optimizer\n",
    "criterion = nn.CrossEntropyLoss()\n",
    "optimizer = optim.Adam(model.parameters(), lr=0.01)"
   ]
  },
  {
   "cell_type": "code",
   "execution_count": 48,
   "metadata": {},
   "outputs": [
    {
     "name": "stdout",
     "output_type": "stream",
     "text": [
      "Epoch: 1/3...  Loss: 0.3821\n",
      "Epoch: 1/3...  Loss: 0.3904\n",
      "Epoch: 1/3...  Loss: 0.3696\n",
      "Epoch: 1/3...  Loss: 0.3870\n",
      "Epoch: 1/3...  Loss: 0.3705\n",
      "Epoch: 1/3...  Loss: 0.3969\n",
      "Epoch: 1/3...  Loss: 0.3788\n",
      "Epoch: 1/3...  Loss: 0.3982\n",
      "Epoch: 1/3...  Loss: 0.3859\n",
      "Epoch: 1/3...  Loss: 0.3729\n",
      "Epoch: 1/3...  Loss: 0.3898\n",
      "Epoch: 1/3...  Loss: 0.4013\n",
      "Epoch: 1/3...  Loss: 0.3996\n",
      "Epoch: 1/3...  Loss: 0.4086\n",
      "Epoch: 1/3...  Loss: 0.3735\n",
      "Epoch: 1/3...  Loss: 0.3606\n",
      "Epoch: 1/3...  Loss: 0.3598\n",
      "Epoch: 1/3...  Loss: 0.3557\n",
      "Epoch: 1/3...  Loss: 0.3688\n",
      "Epoch: 1/3...  Loss: 0.3753\n",
      "Epoch: 1/3...  Loss: 0.3606\n",
      "Epoch: 1/3...  Loss: 0.3931\n",
      "Epoch: 1/3...  Loss: 0.4156\n",
      "Epoch: 2/3...  Loss: 0.1967\n",
      "Epoch: 2/3...  Loss: 0.3470\n",
      "Epoch: 2/3...  Loss: 0.3630\n",
      "Epoch: 2/3...  Loss: 0.3661\n",
      "Epoch: 2/3...  Loss: 0.3830\n",
      "Epoch: 2/3...  Loss: 0.3379\n",
      "Epoch: 2/3...  Loss: 0.3488\n",
      "Epoch: 2/3...  Loss: 0.3679\n",
      "Epoch: 2/3...  Loss: 0.3585\n",
      "Epoch: 2/3...  Loss: 0.3730\n",
      "Epoch: 2/3...  Loss: 0.3746\n",
      "Epoch: 2/3...  Loss: 0.3789\n",
      "Epoch: 2/3...  Loss: 0.3442\n",
      "Epoch: 2/3...  Loss: 0.3866\n",
      "Epoch: 2/3...  Loss: 0.3582\n",
      "Epoch: 2/3...  Loss: 0.3462\n",
      "Epoch: 2/3...  Loss: 0.3386\n",
      "Epoch: 2/3...  Loss: 0.3412\n",
      "Epoch: 2/3...  Loss: 0.3832\n",
      "Epoch: 2/3...  Loss: 0.3394\n",
      "Epoch: 2/3...  Loss: 0.3664\n",
      "Epoch: 2/3...  Loss: 0.3681\n",
      "Epoch: 2/3...  Loss: 0.3820\n",
      "Epoch: 3/3...  Loss: 0.0367\n",
      "Epoch: 3/3...  Loss: 0.3357\n",
      "Epoch: 3/3...  Loss: 0.3340\n",
      "Epoch: 3/3...  Loss: 0.3737\n",
      "Epoch: 3/3...  Loss: 0.3237\n",
      "Epoch: 3/3...  Loss: 0.3389\n",
      "Epoch: 3/3...  Loss: 0.3035\n",
      "Epoch: 3/3...  Loss: 0.3433\n",
      "Epoch: 3/3...  Loss: 0.3362\n",
      "Epoch: 3/3...  Loss: 0.3583\n",
      "Epoch: 3/3...  Loss: 0.3684\n",
      "Epoch: 3/3...  Loss: 0.3542\n",
      "Epoch: 3/3...  Loss: 0.3469\n",
      "Epoch: 3/3...  Loss: 0.3267\n",
      "Epoch: 3/3...  Loss: 0.3551\n",
      "Epoch: 3/3...  Loss: 0.3479\n",
      "Epoch: 3/3...  Loss: 0.3515\n",
      "Epoch: 3/3...  Loss: 0.3363\n",
      "Epoch: 3/3...  Loss: 0.3310\n",
      "Epoch: 3/3...  Loss: 0.3331\n",
      "Epoch: 3/3...  Loss: 0.3377\n",
      "Epoch: 3/3...  Loss: 0.3177\n",
      "Epoch: 3/3...  Loss: 0.3628\n",
      "Epoch: 3/3...  Loss: 0.3529\n"
     ]
    }
   ],
   "source": [
    "# TODO: Train the network here\n",
    "epochs = 3\n",
    "print_every = 40\n",
    "steps = 0\n",
    "for e in range(epochs):\n",
    "    running_loss = 0\n",
    "    for images, labels in iter(trainloader):\n",
    "        steps += 1\n",
    "        # Flatten MNIST images into a 784 long vector\n",
    "        images.resize_(images.size()[0], 784)\n",
    "        \n",
    "        optimizer.zero_grad()\n",
    "        \n",
    "        # Forward and backward passes\n",
    "        output = model.forward(images)\n",
    "        loss = criterion(output, labels)\n",
    "        loss.backward()\n",
    "        optimizer.step()\n",
    "        \n",
    "        running_loss += loss.item()\n",
    "        \n",
    "        if steps % print_every == 0:\n",
    "            print(\"Epoch: {}/{}... \".format(e+1, epochs),\n",
    "                  \"Loss: {:.4f}\".format(running_loss/print_every))\n",
    "            \n",
    "            running_loss = 0"
   ]
  },
  {
   "cell_type": "code",
   "execution_count": 56,
   "metadata": {},
   "outputs": [
    {
     "name": "stdout",
     "output_type": "stream",
     "text": [
      "torch.Size([1, 784])\n"
     ]
    },
    {
     "data": {
      "image/png": "[encoded data removed]",
      "text/plain": [
       "<Figure size 432x648 with 2 Axes>"
      ]
     },
     "metadata": {
      "image/png": {
       "height": 216,
       "width": 424
      },
      "needs_background": "light"
     },
     "output_type": "display_data"
    }
   ],
   "source": [
    "# Test out your network!\n",
    "\n",
    "dataiter = iter(testloader)\n",
    "images, labels = dataiter.next()\n",
    "img = images[0]\n",
    "\n",
    "\n",
    "# Convert 2D image to 1D vector\n",
    "img = img.view(1, 784)\n",
    "\n",
    "with torch.no_grad():\n",
    "    logits = model.forward(img)\n",
    "    \n",
    "    \n",
    "# TODO: Calculate the class probabilities (softmax) for img\n",
    "ps = F.softmax(logits, dim=1)\n",
    "\n",
    "#ValueError: shape mismatch: objects cannot be broadcast to a single shape\n",
    "\n",
    "# Plot the image and probabilities\n",
    "print(img.size())\n",
    "helper.view_classify(img.resize_(1, 28, 28), ps, version='Fashion')\n"
   ]
  },
  {
   "cell_type": "markdown",
   "metadata": {},
   "source": [
    "Now that your network is trained, you'll want to save it to disk so you can load it later instead of training it again. Obviously, it's impractical to train a network every time you need one. In practice, you'll train it once, save the model, then reload it for further training or making predictions. In the next part, I'll show you how to save and load trained models."
   ]
  },
  {
   "cell_type": "code",
   "execution_count": null,
   "metadata": {},
   "outputs": [],
   "source": []
  }
 ],
 "metadata": {
  "kernelspec": {
   "display_name": "Python 3",
   "language": "python",
   "name": "python3"
  },
  "language_info": {
   "codemirror_mode": {
    "name": "ipython",
    "version": 3
   },
   "file_extension": ".py",
   "mimetype": "text/x-python",
   "name": "python",
   "nbconvert_exporter": "python",
   "pygments_lexer": "ipython3",
   "version": "3.6.8"
  }
 },
 "nbformat": 4,
 "nbformat_minor": 2
}
